from numpy import *

# input
# ��ü �б�(char)
with open('input.txt') as data:
    n = int(data.read(1))
    lines = data.readlines()
# push_backó�� list�ڿ� �߰�
numbers = []
for line in lines:
    numbers.append(line.split())
    
# char list -> int list
for i in range(2*n+1):
    numbers[i] = list(map(float,numbers[i]))
    
# n���� �迭 ����
A = [[0]*(n+1) for i in range(n)]

# ��� A�� ���Ҹ� �Է�
for i in range(n):
    for j in range(n):
        A[i][j] = numbers[i+1][j]

# ���� b�� �Է�, ���ǻ� b[i] = A[i][n]���� ���´�.
for i in range(n):
    A[i][n] = numbers[i+n+1][0]

# �Ǻ���
tmp = range(n+1)
for j in range(n-1):
    for i in range(n-1):
        if(A[i][0] < A[i+1][0]):
            tmp = A[i+1]
            A[i+1] = A[i]
            A[i] = tmp

def gauss(n):
    # ����� �밢������ ���Ұ� 0�� �ƴϵ��� ����
    for j in range(n):
        if(A[j][j] == 0):
            for i in range(j+1,n):
                if(A[i][j] != 0):
                    #i��� j���� �ٲپ� �ش�.
                    for k in range(j,n+1):
                        m = A[j][k]
                        A[j][k] = A[i][k]
                        A[i][k] = m
                    break
        # �밢������ ������ 0�� ������ ���� �ߴ�.         
        if(A[j][j] == 0):
            print("��Ģ����� �ƴմϴ�.")
            return
        #�Ұ� ����
        for i in range(j+1,n):
            A[i][j] = -(A[i][j]/A[j][j])
            for k in range(j+1,n+1):
                A[i][k] = A[i][k] + A[i][j] * A[j][k]
                
    #�� ���Թ�
    for i in range(n-1,-1,-1):
        for k in range(i+1,n):
            A[i][n] = A[i][n] - A[i][k] * A[k][n]
        A[i][n] = A[i][n]/A[i][i]
    #�ظ� ���
    for i in range(n):
        print("x%d : %.4f" % (i+1,A[i][n]))
        
    return

# ���콺 �ҰŹ��� ���� �� �� �ִ� �����ƾ�� ȣ��
gauss(n)