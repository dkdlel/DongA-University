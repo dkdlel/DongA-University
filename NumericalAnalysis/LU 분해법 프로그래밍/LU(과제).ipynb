from numpy import *
import numpy

# input
# ��ü �б�(char)
with open('input.txt') as data:
    n = int(data.read(1))
    lines = data.readlines()
# push_backó�� list�ڿ� �߰�
numbers = []
for line in lines:
    numbers.append(line.split())
    
# char list -> int list
for i in range(2*n+1):
    numbers[i] = list(map(float,numbers[i]))

# n���� �迭 ����
A = [[0]*n for i in range(n)]
B = list(range(n))
U = [[0]*n for i in range(n)]
L = numpy.eye(n)
Y = zeros(n)
X = zeros(n)

# ��� A�� ���Ҹ� �Է�
for i in range(n):
    for j in range(n):
        A[i][j] = numbers[i+1][j]
        
# ��� B ����
for i in range(n):
    B[i] = numbers[i+n+1][0]
    
# U�� ����� ���� A��� ����
for i in range(n):
    for j in range(n):
        U[i][j] = A[i][j]
        
# LU���ع�
for i in range(n-1):
    for j in range(i+1,n):
        tmp = U[j][i] / U[i][i]
        L[j][i] = tmp
        for k in range(n):
            U[j][k] = U[j][k] - (U[i][k] * tmp)

# Uy = b�� Ȱ���Ͽ� y ���ϱ�
for i in range(n):
    sum = 0
    for j in range(i):
        sum += L[i][j] * Y[j]
    Y[i] = (B[i] - sum) / L[i][i]

# Lx = y�� Ȱ���Ͽ� x ���ϱ�
for i in range(n-1,-1,-1):
    sum = 0
    for j in range(n-1,i,-1):
        sum +=  U[i][j] * X[j]
    X[i] = (Y[i] - sum) / U[i][i]

print("�Է����\n",A)
print("\nL���� ���\n", L)
print("\nU���� ���\n", U)
print("\ny�� ��")
for i in range(n):
    print("y%d : %.4f" % (i+1,Y[i]))
print("\nx�� ��")
for i in range(n):
    print("x%d : %.4f" % (i+1,X[i]))