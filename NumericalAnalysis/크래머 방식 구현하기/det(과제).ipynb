from numpy import *
from numpy.linalg import det
# input
# ��ü �б�(char)
with open('input.txt') as data:
    lines = data.readlines()
# push_backó�� list�ڿ� �߰�
numbers = []
for line in lines:
    numbers.append(line.split())
# char list -> int list
for i in range(4):
    numbers[i] = list(map(int,numbers[i]))
# 2���� �迭 ����
Matrix = [[0]*2 for i in range(2)]
Matrix_1 = [[0]*2 for i in range(2)]
Matrix_2 = [[0]*2 for i in range(2)]
# 2���� �迭 �� ����
for i in range(2):
    for j in range(2):
        Matrix[i][j] = numbers[i][j]
        Matrix_1[i][j] = Matrix[i][j]
        Matrix_2[i][j] = Matrix[i][j]
# det������ ���� 2���� �迭 2�� ����
for i in range(2):
    Matrix_1[i][0] = numbers[i+2][0]
    Matrix_2[i][1] = numbers[i+2][0]
# ��Ľ� ���
x1 = det(Matrix_1)/det(Matrix)
x2 = det(Matrix_2)/det(Matrix)
# output
print('x1 = %0.4f, x2 = %0.4f' % (x1,x2))